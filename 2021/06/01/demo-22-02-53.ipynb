{
 "cells": [
  {
   "cell_type": "code",
   "execution_count": 1,
   "id": "5c09e70d-1272-427f-9545-bb90fc2b019a",
   "metadata": {
    "execution": {
     "iopub.execute_input": "2021-06-01T22:02:54.608207Z",
     "iopub.status.busy": "2021-06-01T22:02:54.607454Z",
     "iopub.status.idle": "2021-06-01T22:02:54.612597Z",
     "shell.execute_reply": "2021-06-01T22:02:54.611829Z"
    },
    "papermill": {
     "duration": 0.018064,
     "end_time": "2021-06-01T22:02:54.612783",
     "exception": false,
     "start_time": "2021-06-01T22:02:54.594719",
     "status": "completed"
    },
    "tags": []
   },
   "outputs": [
    {
     "name": "stdout",
     "output_type": "stream",
     "text": [
      "Coming from notebook - Hello World\n",
      "Coming from notebook - current time: 22:02:54\n",
      "['/out/papermill/2021', '/out/papermill/README.md']\n"
     ]
    }
   ],
   "source": [
    "# import os\n",
    "# from pathlib import Path\n",
    "# import pandas as pd\n",
    "# from pandas.core.frame import DataFrame\n",
    "# from dataclasses import dataclass\n",
    "\n",
    "from datetime import datetime, timezone\n",
    "\n",
    "\n",
    "print('Coming from notebook - Hello World')\n",
    "# print(datetime.now(timezone.utc).astimezone().tzinfo)\n",
    "print(f\"Coming from notebook - current time: {datetime.now().strftime('%H:%M:%S')}\")\n",
    "\n",
    "\n",
    "import glob\n",
    "print(glob.glob(\"/out/papermill/*\"))"
   ]
  }
 ],
 "metadata": {
  "kernelspec": {
   "display_name": "Python 3",
   "language": "python",
   "name": "python3"
  },
  "language_info": {
   "codemirror_mode": {
    "name": "ipython",
    "version": 3
   },
   "file_extension": ".py",
   "mimetype": "text/x-python",
   "name": "python",
   "nbconvert_exporter": "python",
   "pygments_lexer": "ipython3",
   "version": "3.8.10"
  },
  "papermill": {
   "default_parameters": {},
   "duration": 1.217619,
   "end_time": "2021-06-01T22:02:54.822497",
   "environment_variables": {},
   "exception": null,
   "input_path": "/app/demo.ipynb",
   "output_path": "/out/papermill/2021/06/01/demo-22-02-53.ipynb",
   "parameters": {},
   "start_time": "2021-06-01T22:02:53.604878",
   "version": "2.3.3"
  }
 },
 "nbformat": 4,
 "nbformat_minor": 5
}