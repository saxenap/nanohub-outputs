{
 "cells": [
  {
   "cell_type": "code",
   "execution_count": 1,
   "id": "5c09e70d-1272-427f-9545-bb90fc2b019a",
   "metadata": {
    "execution": {
     "iopub.execute_input": "2021-06-02T06:51:14.405856Z",
     "iopub.status.busy": "2021-06-02T06:51:14.405085Z",
     "iopub.status.idle": "2021-06-02T06:51:14.410622Z",
     "shell.execute_reply": "2021-06-02T06:51:14.409849Z"
    },
    "papermill": {
     "duration": 0.018361,
     "end_time": "2021-06-02T06:51:14.410812",
     "exception": false,
     "start_time": "2021-06-02T06:51:14.392451",
     "status": "completed"
    },
    "tags": []
   },
   "outputs": [
    {
     "name": "stdout",
     "output_type": "stream",
     "text": [
      "Coming from notebook - Hello World\n",
      "Coming from notebook - current time: 06:51:14\n",
      "['/out/papermill/2021', '/out/papermill/README.md']\n"
     ]
    }
   ],
   "source": [
    "# import os\n",
    "# from pathlib import Path\n",
    "# import pandas as pd\n",
    "# from pandas.core.frame import DataFrame\n",
    "# from dataclasses import dataclass\n",
    "\n",
    "from datetime import datetime, timezone\n",
    "\n",
    "\n",
    "print('Coming from notebook - Hello World')\n",
    "# print(datetime.now(timezone.utc).astimezone().tzinfo)\n",
    "print(f\"Coming from notebook - current time: {datetime.now().strftime('%H:%M:%S')}\")\n",
    "\n",
    "\n",
    "import glob\n",
    "print(glob.glob(\"/out/papermill/*\"))"
   ]
  }
 ],
 "metadata": {
  "kernelspec": {
   "display_name": "Python 3",
   "language": "python",
   "name": "python3"
  },
  "language_info": {
   "codemirror_mode": {
    "name": "ipython",
    "version": 3
   },
   "file_extension": ".py",
   "mimetype": "text/x-python",
   "name": "python",
   "nbconvert_exporter": "python",
   "pygments_lexer": "ipython3",
   "version": "3.8.10"
  },
  "papermill": {
   "default_parameters": {},
   "duration": 1.225763,
   "end_time": "2021-06-02T06:51:14.625517",
   "environment_variables": {},
   "exception": null,
   "input_path": "/app/demo.ipynb",
   "output_path": "/out/papermill/2021/06/02/demo-06-51-13.ipynb",
   "parameters": {},
   "start_time": "2021-06-02T06:51:13.399754",
   "version": "2.3.3"
  }
 },
 "nbformat": 4,
 "nbformat_minor": 5
}