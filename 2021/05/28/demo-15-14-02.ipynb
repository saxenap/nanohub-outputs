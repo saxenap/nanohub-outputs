{
 "cells": [
  {
   "cell_type": "code",
   "execution_count": 1,
   "id": "5c09e70d-1272-427f-9545-bb90fc2b019a",
   "metadata": {
    "execution": {
     "iopub.execute_input": "2021-05-28T15:14:04.228366Z",
     "iopub.status.busy": "2021-05-28T15:14:04.227373Z",
     "iopub.status.idle": "2021-05-28T15:14:04.239770Z",
     "shell.execute_reply": "2021-05-28T15:14:04.240813Z"
    },
    "papermill": {
     "duration": 0.02106,
     "end_time": "2021-05-28T15:14:04.241247",
     "exception": false,
     "start_time": "2021-05-28T15:14:04.220187",
     "status": "completed"
    },
    "tags": []
   },
   "outputs": [
    {
     "name": "stdout",
     "output_type": "stream",
     "text": [
      "Coming from notebook - Hello World\n",
      "Coming from notebook - current time: 15:14:04\n",
      "['/out/papermill/README.md', '/out/papermill/2021']\n"
     ]
    }
   ],
   "source": [
    "# import os\n",
    "# from pathlib import Path\n",
    "# import pandas as pd\n",
    "# from pandas.core.frame import DataFrame\n",
    "# from dataclasses import dataclass\n",
    "\n",
    "from datetime import datetime, timezone\n",
    "\n",
    "\n",
    "print('Coming from notebook - Hello World')\n",
    "# print(datetime.now(timezone.utc).astimezone().tzinfo)\n",
    "print(f\"Coming from notebook - current time: {datetime.now().strftime('%H:%M:%S')}\")\n",
    "\n",
    "\n",
    "import glob\n",
    "print(glob.glob(\"/out/papermill/*\"))"
   ]
  }
 ],
 "metadata": {
  "kernelspec": {
   "display_name": "Python 3",
   "language": "python",
   "name": "python3"
  },
  "language_info": {
   "codemirror_mode": {
    "name": "ipython",
    "version": 3
   },
   "file_extension": ".py",
   "mimetype": "text/x-python",
   "name": "python",
   "nbconvert_exporter": "python",
   "pygments_lexer": "ipython3",
   "version": "3.8.10"
  },
  "papermill": {
   "default_parameters": {},
   "duration": 1.446462,
   "end_time": "2021-05-28T15:14:04.557008",
   "environment_variables": {},
   "exception": null,
   "input_path": "/app/demo.ipynb",
   "output_path": "/out/papermill/2021/05/28/demo-15-14-02.ipynb",
   "parameters": {},
   "start_time": "2021-05-28T15:14:03.110546",
   "version": "2.3.3"
  }
 },
 "nbformat": 4,
 "nbformat_minor": 5
}